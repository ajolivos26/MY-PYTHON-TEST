{
 "cells": [
  {
   "cell_type": "code",
   "execution_count": null,
   "id": "710fd76f",
   "metadata": {},
   "outputs": [
    {
     "name": "stdout",
     "output_type": "stream",
     "text": [
      "Hello World\n",
      "This is a test notebook\n"
     ]
    }
   ],
   "source": [
    "# TEst Notebook\n",
    "\n",
    "print(\"Hello World\")\n",
    "print(\"This is a test notebook\")\n",
    "\n",
    "#ok = True"
   ]
  }
 ],
 "metadata": {
  "kernelspec": {
   "display_name": "base",
   "language": "python",
   "name": "python3"
  },
  "language_info": {
   "codemirror_mode": {
    "name": "ipython",
    "version": 3
   },
   "file_extension": ".py",
   "mimetype": "text/x-python",
   "name": "python",
   "nbconvert_exporter": "python",
   "pygments_lexer": "ipython3",
   "version": "3.12.7"
  }
 },
 "nbformat": 4,
 "nbformat_minor": 5
}
